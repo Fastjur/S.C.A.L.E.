{
 "cells": [
  {
   "cell_type": "code",
   "execution_count": null,
   "id": "initial_id",
   "metadata": {},
   "outputs": [],
   "source": [
    "import pandas as pd\n",
    "import matplotlib\n",
    "import matplotlib.pyplot as plt\n",
    "import seaborn as sns\n",
    "import itertools\n",
    "from entsoe import EntsoePandasClient\n",
    "\n",
    "entsoe_client = EntsoePandasClient(api_key=\"API_KEY\")\n",
    "\n",
    "COUNTRY_CODE = \"NL\"\n",
    "TIMEZONE = \"Europe/Amsterdam\"\n",
    "DATE = pd.Timestamp(\"2023-11-13\", tz=TIMEZONE)\n",
    "END_DATE = DATE.replace(hour=23, minute=59)\n",
    "\n",
    "sns.set_theme()\n",
    "sns.set(context=\"notebook\", font=\"Verdana\", font_scale=1.5)\n",
    "matplotlib.rcParams['figure.figsize'] = (16, 9)\n",
    "matplotlib.rcParams['figure.dpi'] = 200\n",
    "matplotlib.rcParams['lines.linewidth'] = 2.5\n",
    "\n",
    "print(\"Default figure size:\", matplotlib.rcParams['figure.figsize'])"
   ]
  },
  {
   "cell_type": "code",
   "execution_count": null,
   "id": "7d523486762559a9",
   "metadata": {
    "collapsed": false
   },
   "outputs": [],
   "source": [
    "def calculate_synthetic_values(df: pd.DataFrame) -> pd.DataFrame:\n",
    "    df[\"Total renewable generation\"] = df[\"Solar\"] + df[\"Wind Offshore\"] + df[\"Wind Onshore\"]\n",
    "    df[\"Renewable percentage\"] = df[\"Total renewable generation\"] / df[\"Forecasted Load\"] * 100\n",
    "    \n",
    "    return df"
   ]
  },
  {
   "cell_type": "code",
   "execution_count": null,
   "id": "4ee1f89d7b210452",
   "metadata": {
    "collapsed": false
   },
   "outputs": [],
   "source": [
    "renewable_forecast = entsoe_client.query_wind_and_solar_forecast(\n",
    "    country_code=COUNTRY_CODE,\n",
    "    start=DATE,\n",
    "    end=END_DATE,\n",
    ")\n",
    "load_forecast = entsoe_client.query_load_forecast(\n",
    "    country_code=COUNTRY_CODE,\n",
    "    start=DATE,\n",
    "    end=END_DATE,\n",
    ")\n",
    "\n",
    "df = renewable_forecast.merge(load_forecast, left_index=True, right_index=True, validate=\"one_to_one\")\n",
    "\n",
    "df = calculate_synthetic_values(df)\n",
    "\n",
    "df"
   ]
  },
  {
   "cell_type": "code",
   "execution_count": null,
   "id": "8b92f0bdb571e3a9",
   "metadata": {
    "collapsed": false
   },
   "outputs": [],
   "source": [
    "fig, axs = plt.subplots(ncols=2, figsize=(16,4), sharey=True, sharex=True)\n",
    "lines = [\n",
    "    \"Solar\",\n",
    "    \"Wind Offshore\",\n",
    "    \"Wind Onshore\",\n",
    "]\n",
    "\n",
    "palette = itertools.cycle(sns.color_palette())\n",
    "\n",
    "for line_name in lines:\n",
    "    color = next(palette)\n",
    "    sns.lineplot(data=df, x=df.index, y=line_name, ax=axs[0], errorbar=None, color=color)\n",
    "\n",
    "axs[0].legend(lines)\n",
    "    \n",
    "sns.lineplot(data=df, x=df.index, y=\"Total renewable generation\", ax=axs[1], errorbar=None, color=next(palette))\n",
    "axs[1].legend([\"Total renewable generation\"])\n",
    "\n",
    "xticks = pd.date_range(start=DATE, end=DATE + pd.Timedelta(days=1), periods=13, tz=TIMEZONE)\n",
    "\n",
    "for ax in axs:\n",
    "    ax.set_xticks(xticks)\n",
    "    ax.set_xticklabels(xticks.strftime(\"%H:%M\"), rotation=45, horizontalalignment=\"right\")\n",
    "    ax.set_ylabel(\"MW\")\n",
    "    ax.set_xlabel(\"Time of day (November 13th, 2023\")\n",
    "    ax.yaxis.set_major_formatter('{x:,.0f}')"
   ]
  }
 ],
 "metadata": {
  "kernelspec": {
   "display_name": "Python 3 (ipykernel)",
   "language": "python",
   "name": "python3"
  },
  "language_info": {
   "codemirror_mode": {
    "name": "ipython",
    "version": 3
   },
   "file_extension": ".py",
   "mimetype": "text/x-python",
   "name": "python",
   "nbconvert_exporter": "python",
   "pygments_lexer": "ipython3",
   "version": "3.11.2"
  }
 },
 "nbformat": 4,
 "nbformat_minor": 5
}
