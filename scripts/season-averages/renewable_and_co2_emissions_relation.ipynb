{
 "cells": [
  {
   "cell_type": "code",
   "execution_count": null,
   "id": "initial_id",
   "metadata": {
    "collapsed": true
   },
   "outputs": [],
   "source": [
    "import matplotlib\n",
    "import matplotlib.pyplot as plt\n",
    "import numpy as np\n",
    "import statsmodels.api as sm\n",
    "import seaborn as sns\n",
    "import pandas as pd\n",
    "\n",
    "sns.set_theme()\n",
    "sns.set(context=\"notebook\", font=\"Verdana\", font_scale=1.5)\n",
    "\n",
    "matplotlib.rcParams['figure.figsize'] = (16, 9)\n",
    "matplotlib.rcParams['figure.dpi'] = 200\n",
    "matplotlib.rcParams['lines.linewidth'] = 2.5\n",
    "print(\"Default figure size:\", matplotlib.rcParams['figure.figsize'])"
   ]
  },
  {
   "cell_type": "code",
   "execution_count": null,
   "outputs": [],
   "source": [
    "hourly_emissions_2021 = pd.read_csv('NL_2021_hourly_emissions.csv', index_col=\"Datetime (UTC)\", parse_dates=['Datetime (UTC)'])\n",
    "hourly_emissions_2022 = pd.read_csv('NL_2022_hourly_emissions.csv', index_col=\"Datetime (UTC)\", parse_dates=['Datetime (UTC)'])\n",
    "\n",
    "hourly_emissions = pd.concat([hourly_emissions_2021, hourly_emissions_2022])\n",
    "hourly_emissions.drop(columns=[\"Country\", \"Zone Name\", \"Zone Id\", \"Data Source\", \"Data Estimated\", \"Data Estimation Method\"], inplace=True)\n",
    "hourly_emissions.index = pd.to_datetime(hourly_emissions.index, utc=True)\n",
    "hourly_emissions.index = hourly_emissions.index.tz_convert('Europe/Amsterdam')\n",
    "hourly_emissions.index.name = \"Datetime (Europe/Amsterdam)\"\n",
    "\n",
    "hourly_emissions.rename(\n",
    "    columns={\n",
    "        \"Renewable Percentage\": \"Renewable percentage (Electricity Maps)\",\n",
    "    },\n",
    "    inplace=True,\n",
    ")\n",
    "\n",
    "hourly_emissions = hourly_emissions.resample('15min').interpolate(method='linear')\n",
    "\n",
    "hourly_emissions.head()"
   ],
   "metadata": {
    "collapsed": false
   },
   "id": "f1d31fcb5f17d1d6"
  },
  {
   "cell_type": "code",
   "execution_count": null,
   "outputs": [],
   "source": [
    "spring_2021 = pd.read_csv('raw_data/2021_spring_raw_data.csv', parse_dates=[0], index_col=0)\n",
    "spring_2021[\"Season\"] = \"Spring\"\n",
    "\n",
    "summer_2021 = pd.read_csv('raw_data/2021_summer_raw_data.csv', parse_dates=[0], index_col=0)\n",
    "summer_2021[\"Season\"] = \"Summer\"\n",
    "\n",
    "fall_2021 = pd.read_csv('raw_data/2021_fall_raw_data.csv', parse_dates=[0], index_col=0)\n",
    "fall_2021[\"Season\"] = \"Fall\"\n",
    "\n",
    "winter_2021 = pd.read_csv('raw_data/2021_winter_raw_data.csv', parse_dates=[0], index_col=0)\n",
    "winter_2021[\"Season\"] = \"Winter\"\n",
    "\n",
    "df_2021 = pd.concat([spring_2021, summer_2021, fall_2021, winter_2021])\n",
    "df_2021.index = pd.to_datetime(df_2021.index, utc=True).tz_convert('Europe/Amsterdam')\n",
    "print(\"Datatype of df_2021 index:\", df_2021.index.dtype)\n",
    "print(df_2021.index[0])\n",
    "\n",
    "df_2021[\"Total renewable generation\"] = df_2021[\"Solar\"] + df_2021[\"Wind Offshore\"] + df_2021[\"Wind Onshore\"]\n",
    "df_2021[\"Renewable percentage\"] = df_2021[\"Total renewable generation\"] / df_2021[\"Forecasted Load\"] * 100\n",
    "\n",
    "df_2021.head()"
   ],
   "metadata": {
    "collapsed": false
   },
   "id": "2490800a07a91c10"
  },
  {
   "cell_type": "code",
   "execution_count": null,
   "outputs": [],
   "source": [
    "print(\"Datatype of hourly_emissions:\", hourly_emissions.index.dtype)\n",
    "print(\"Datatype of df_2021:\", df_2021.index.dtype)\n",
    "merged = pd.merge_asof(df_2021, hourly_emissions, left_index=True, right_index=True, direction=\"nearest\")\n",
    "\n",
    "merged[\"Hour\"] = merged.index.hour\n",
    "merged[\"Minute\"] = merged.index.minute\n",
    "\n",
    "merged"
   ],
   "metadata": {
    "collapsed": false
   },
   "id": "ec277690fe2fc263"
  },
  {
   "cell_type": "code",
   "execution_count": null,
   "outputs": [],
   "source": [
    "reg_results = {}\n",
    "for season in [\"Spring\", \"Summer\", \"Fall\", \"Winter\"]:\n",
    "    test_df = merged[merged[\"Season\"] == season]\n",
    "\n",
    "    y = test_df[\"Carbon Intensity gCO₂eq/kWh (LCA)\"]\n",
    "    x = test_df[\"Renewable percentage\"].apply(lambda the_x: np.log(the_x))\n",
    "    \n",
    "    x = sm.add_constant(x)\n",
    "    \n",
    "    model = sm.OLS(y, x)\n",
    "    res = model.fit()\n",
    "    \n",
    "    reg_results[season] = res\n",
    "    \n",
    "    print(\"Season:\", season)\n",
    "    print(res.summary())\n",
    "    print(\"\\n\\n\\n\\n\\n\\n\")\n",
    "    \n",
    "for season_key in reg_results:\n",
    "    print(\"Season:\", season_key)\n",
    "    res = reg_results[season_key]\n",
    "    print(res.params)\n",
    "    print(res.t_test([0, 1]))\n",
    "    print(\"\\n\")"
   ],
   "metadata": {
    "collapsed": false
   },
   "id": "fec4b5020197095e"
  },
  {
   "cell_type": "code",
   "execution_count": null,
   "outputs": [],
   "source": [
    "g = sns.FacetGrid(\n",
    "    data=merged, \n",
    "    col=\"Season\", \n",
    "    height=6, \n",
    "    aspect=1, \n",
    "    col_wrap=2\n",
    ")\n",
    "\n",
    "g.map_dataframe(\n",
    "    sns.scatterplot,\n",
    "    x=\"Renewable percentage\",\n",
    "    y=\"Carbon Intensity gCO₂eq/kWh (LCA)\",\n",
    "    alpha=0.3,\n",
    ")\n",
    "\n",
    "for ax in g.axes.flatten():\n",
    "    season = ax.get_title().split(\" = \")[1]\n",
    "    x_plot = np.linspace(0, 100, 100)\n",
    "    const = reg_results[season].params['const']\n",
    "    coeff = reg_results[season].params['Renewable percentage']\n",
    "    y_plot = const + coeff * np.log(x_plot)\n",
    "    \n",
    "    sns.lineplot(x=x_plot, y=y_plot, ax=ax, label=f\"y = {round(coeff, 4)} ln(x) + {round(const, 4)}\", color=\"red\")\n",
    "    \n",
    "    "
   ],
   "metadata": {
    "collapsed": false
   },
   "id": "66ee0c74a14905b4"
  },
  {
   "cell_type": "code",
   "execution_count": null,
   "outputs": [],
   "source": [
    "g = sns.FacetGrid(\n",
    "    data=merged, \n",
    "    col=\"Season\", \n",
    "    height=6, \n",
    "    aspect=1, \n",
    "    col_wrap=2\n",
    ")\n",
    "\n",
    "g.map_dataframe(\n",
    "    sns.scatterplot,\n",
    "    x=\"Renewable percentage (Electricity Maps)\",\n",
    "    y=\"Carbon Intensity gCO₂eq/kWh (LCA)\",\n",
    "    alpha=0.3,\n",
    ")\n",
    "\n",
    "# for ax in g.axes.flatten():\n",
    "#     season = ax.get_title().split(\" = \")[1]\n",
    "#     x_plot = np.linspace(0, 100, 100)\n",
    "#     const = reg_results[season].params['const']\n",
    "#     coeff = reg_results[season].params['Renewable percentage']\n",
    "#     y_plot = const + coeff * x_plot\n",
    "#     \n",
    "#     sns.lineplot(x=x_plot, y=y_plot, ax=ax, label=f\"y = {round(coeff, 4)}x + {round(const, 4)}\", color=\"red\")\n",
    "    \n",
    "    "
   ],
   "metadata": {
    "collapsed": false
   },
   "id": "cf60eb16c8b34aae"
  },
  {
   "cell_type": "code",
   "execution_count": null,
   "outputs": [],
   "source": [
    "fig, ax = plt.subplots()\n",
    "\n",
    "sns.scatterplot(merged, x=\"Renewable percentage (Electricity Maps)\", y=\"Renewable percentage\", alpha=0.3, ax=ax)"
   ],
   "metadata": {
    "collapsed": false
   },
   "id": "8b1b7cae77200669"
  },
  {
   "cell_type": "code",
   "execution_count": null,
   "outputs": [],
   "source": [],
   "metadata": {
    "collapsed": false
   },
   "id": "982ed4dccc0f870e"
  }
 ],
 "metadata": {
  "kernelspec": {
   "display_name": "Python 3",
   "language": "python",
   "name": "python3"
  },
  "language_info": {
   "codemirror_mode": {
    "name": "ipython",
    "version": 2
   },
   "file_extension": ".py",
   "mimetype": "text/x-python",
   "name": "python",
   "nbconvert_exporter": "python",
   "pygments_lexer": "ipython2",
   "version": "2.7.6"
  }
 },
 "nbformat": 4,
 "nbformat_minor": 5
}
