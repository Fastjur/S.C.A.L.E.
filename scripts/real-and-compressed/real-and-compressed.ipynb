{
 "cells": [
  {
   "cell_type": "code",
   "execution_count": null,
   "id": "initial_id",
   "metadata": {},
   "outputs": [],
   "source": [
    "import itertools\n",
    "import os\n",
    "from datetime import timedelta\n",
    "\n",
    "import pandas as pd\n",
    "import matplotlib\n",
    "import matplotlib.pyplot as plt\n",
    "import seaborn as sns\n",
    "\n",
    "sns.set_theme()\n",
    "sns.set(context=\"notebook\", font=\"Verdana\", font_scale=1.5)\n",
    "matplotlib.rcParams['figure.figsize'] = (16, 6)\n",
    "matplotlib.rcParams['figure.dpi'] = 200\n",
    "matplotlib.rcParams['lines.linewidth'] = 2.5\n",
    "\n",
    "print(\"Default figure size:\", matplotlib.rcParams['figure.figsize'])"
   ]
  },
  {
   "cell_type": "code",
   "execution_count": null,
   "id": "7d523486762559a9",
   "metadata": {
    "collapsed": false
   },
   "outputs": [],
   "source": [
    "def calculate_synthetic_values(df: pd.DataFrame) -> pd.DataFrame:\n",
    "    df[\"Date\"] = pd.to_datetime(\"2022-07-15\") + pd.to_timedelta(df.index.get_level_values(\"hour\"), unit=\"h\") + pd.to_timedelta(df.index.get_level_values(\"minute\"), unit=\"m\")\n",
    "    \n",
    "    return df"
   ]
  },
  {
   "cell_type": "code",
   "execution_count": null,
   "id": "4ee1f89d7b210452",
   "metadata": {
    "collapsed": false
   },
   "outputs": [],
   "source": [
    "# Print current directory\n",
    "print(os.getcwd())\n",
    "\n",
    "solar = pd.read_csv(\"./2022_summer_solar.csv\", index_col=[\"hour\", \"minute\"])\n",
    "wind_offshore = pd.read_csv(\"./2022_summer_wind_offshore.csv\", index_col=[\"hour\", \"minute\"])\n",
    "wind_onshore = pd.read_csv(\"./2022_summer_wind_onshore.csv\", index_col=[\"hour\", \"minute\"])\n",
    "\n",
    "\n",
    "solar.rename(columns={\"median\": \"Solar\"}, inplace=True)\n",
    "wind_offshore.rename(columns={\"median\": \"Wind Offshore\"}, inplace=True)\n",
    "wind_onshore.rename(columns={\"median\": \"Wind Onshore\"}, inplace=True)\n",
    "\n",
    "df = pd.DataFrame(data={\n",
    "    \"Solar\": solar[\"Solar\"],\n",
    "    \"Wind Offshore\": wind_offshore[\"Wind Offshore\"],\n",
    "    \"Wind Onshore\": wind_onshore[\"Wind Onshore\"],\n",
    "}, index=solar.index)\n",
    "\n",
    "calculate_synthetic_values(df)\n",
    "df.set_index(\"Date\", inplace=True)\n",
    "\n",
    "squeezed_timeframe_duration = timedelta(minutes=10)\n",
    "squeezed_timeframe_start = pd.to_datetime(\"2023-11-15 09:00:00\")\n",
    "squeezed_timeframe_end = squeezed_timeframe_start + squeezed_timeframe_duration\n",
    "squeezed_timeframe = pd.date_range(start=squeezed_timeframe_start, end=squeezed_timeframe_end, periods=len(df))\n",
    "# squeezed_timeframe = squeezed_timeframe[:-1]\n",
    "\n",
    "squeezed_df = df.copy()\n",
    "squeezed_df.index = squeezed_timeframe\n",
    "\n",
    "df"
   ]
  },
  {
   "cell_type": "code",
   "execution_count": null,
   "id": "8b92f0bdb571e3a9",
   "metadata": {
    "collapsed": false
   },
   "outputs": [],
   "source": [
    "fig, axs = plt.subplots(1, 2, sharex=False, sharey=True)\n",
    "\n",
    "palette = itertools.cycle(sns.color_palette())\n",
    "\n",
    "lines = [\n",
    "    {\"label\": \"Solar\", \"color\": next(palette)},\n",
    "    {\"label\": \"Wind Offshore\", \"color\": next(palette)},\n",
    "    {\"label\": \"Wind Onshore\", \"color\": next(palette)},\n",
    "]\n",
    "\n",
    "for line in lines:\n",
    "    sns.lineplot(data=df, x=df.index, y=line[\"label\"], label=line[\"label\"], color=line[\"color\"], ax=axs[0])\n",
    "\n",
    "    \n",
    "axs[0].set_title(\"Original data\\n(median generation during summer 2022)\")\n",
    "\n",
    "xticks = df.index[::16]\n",
    "xtick_labels = [x.strftime(\"%H:%M:%S\") for x in xticks]\n",
    "axs[0].set_xticks(xticks)\n",
    "axs[0].set_xticklabels(xtick_labels, rotation=40, ha=\"right\")\n",
    "\n",
    "for line in lines:\n",
    "    sns.lineplot(data=squeezed_df, x=squeezed_df.index, y=line[\"label\"], label=line[\"label\"], color=line[\"color\"], ax=axs[1])\n",
    "    \n",
    "axs[1].set_title(\"Squeezed timeframe data\\n(mapped to 2023-11-26 09:00-09:10)\")\n",
    "\n",
    "vlines = [\n",
    "    {\"label\": \"Start\", \"color\": next(palette)},\n",
    "    {\"label\": \"End\", \"color\": next(palette)},\n",
    "]\n",
    "\n",
    "for _ in range(10):\n",
    "    print(next(palette))\n",
    "\n",
    "for ax in axs:\n",
    "    ax.axvline(ax.get_xticks()[0], ls='--', label=vlines[0][\"label\"], color=vlines[0][\"color\"])\n",
    "    ax.axvline(ax.get_xticks()[-1], ls='--', label=vlines[1][\"label\"], color=vlines[1][\"color\"])\n",
    "\n",
    "for ax in axs:\n",
    "    ax.set_ylabel(\"Generation (MW)\")\n",
    "    ax.set_xlabel(\"Time\")\n",
    "    \n",
    "xticks = squeezed_df.index[::16]\n",
    "xtick_labels = [x.strftime(\"%H:%M:%S\") for x in xticks]\n",
    "axs[1].set_xticks(xticks)\n",
    "axs[1].set_xticklabels(xtick_labels, rotation=40, ha=\"right\")"
   ]
  }
 ],
 "metadata": {
  "kernelspec": {
   "display_name": "Python 3 (ipykernel)",
   "language": "python",
   "name": "python3"
  },
  "language_info": {
   "codemirror_mode": {
    "name": "ipython",
    "version": 3
   },
   "file_extension": ".py",
   "mimetype": "text/x-python",
   "name": "python",
   "nbconvert_exporter": "python",
   "pygments_lexer": "ipython3",
   "version": "3.11.2"
  }
 },
 "nbformat": 4,
 "nbformat_minor": 5
}
