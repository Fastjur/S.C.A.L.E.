{
 "cells": [
  {
   "cell_type": "code",
   "execution_count": null,
   "id": "initial_id",
   "metadata": {
    "collapsed": true
   },
   "outputs": [],
   "source": [
    "import gc\n",
    "import os\n",
    "import random\n",
    "import sys\n",
    "from zipfile import ZipFile\n",
    "\n",
    "import enlighten\n",
    "import numpy as np\n",
    "import pandas as pd\n",
    "import psutil\n",
    "\n",
    "DATA_DIR = \"ICWSM19_data\"\n",
    "BY_DAY_OUTPUT_DIR = \"BY_DAY\"\n",
    "BY_DAY_CHUNKED_OUTPUT_DIR = \"BY_DAY_CHUNKED\"\n",
    "BY_DAY_ZIPPED_OUTPUT_DIR = \"BY_DAY_ZIPPED\""
   ]
  },
  {
   "cell_type": "code",
   "execution_count": null,
   "outputs": [],
   "source": [
    "os.makedirs(BY_DAY_OUTPUT_DIR, exist_ok=False)\n",
    "\n",
    "pickle_files = os.listdir(DATA_DIR)\n",
    "\n",
    "with enlighten.get_manager() as manager:\n",
    "    pickle_bar = manager.counter(total=len(pickle_files), desc=\"Loading pickle files\")\n",
    "\n",
    "    dfs_by_day = {}\n",
    "    for pickle_file in pickle_files:\n",
    "        # Emergency stop if memory is running low\n",
    "        mem_percent = psutil.virtual_memory().percent\n",
    "        print(\"Memory usage: \", mem_percent)\n",
    "        if mem_percent > 90:\n",
    "            print(\"Memory usage too high, exiting\")\n",
    "            sys.exit(138)\n",
    "        \n",
    "        print(pickle_file)\n",
    "        df = pd.read_pickle(os.path.join(DATA_DIR, pickle_file))\n",
    "        df[\"created_at\"] = pd.to_datetime(df[\"created_at\"], format=\"ISO8601\")\n",
    "        g = df.groupby(pd.DatetimeIndex(df[\"created_at\"]).normalize())\n",
    "        del df\n",
    "        \n",
    "        print(f\"Days in {pickle_file}: {len(g)}\")\n",
    "        for day, day_df in g:\n",
    "            day_pickle = os.path.join(BY_DAY_OUTPUT_DIR, day.strftime(\"%Y-%m-%d.pkl\"))\n",
    "            if not os.path.exists(day_pickle):\n",
    "                day_df.to_pickle(day_pickle)\n",
    "            else:\n",
    "                old_df = pd.read_pickle(day_pickle)\n",
    "                day_df = pd.concat([old_df, day_df])\n",
    "                day_df.to_pickle(day_pickle)\n",
    "                del old_df\n",
    "            del day_df\n",
    "            \n",
    "        gc.collect()\n",
    "        \n",
    "        pickle_bar.update()"
   ],
   "metadata": {
    "collapsed": false
   },
   "id": "aecf7c23ce548160"
  },
  {
   "cell_type": "code",
   "execution_count": null,
   "outputs": [],
   "source": [
    "os.makedirs(BY_DAY_CHUNKED_OUTPUT_DIR, exist_ok=False) # TODO, set to False\n",
    "\n",
    "MIN_CHATS_PER_CHUNK = 40\n",
    "MAX_CHATS_PER_CHUNK = 100\n",
    "\n",
    "by_day_pickle_files = os.listdir(BY_DAY_OUTPUT_DIR)\n",
    "\n",
    "TAB_CHAR = \"\\t\"\n",
    "\n",
    "for pickle_file in by_day_pickle_files:\n",
    "    df = pd.read_pickle(os.path.join(BY_DAY_OUTPUT_DIR, pickle_file))\n",
    "    original_len = len(df)\n",
    "    print(f\"Total chats in {pickle_file}: {len(df)}, unique indices: {len(df.index.unique())}\")\n",
    "    chunks = []\n",
    "    while len(df) > 0:\n",
    "        chunk_size = random.randint(MIN_CHATS_PER_CHUNK, MAX_CHATS_PER_CHUNK)\n",
    "        chunk = df.head(chunk_size)\n",
    "        df = df.tail(len(df) - chunk_size)\n",
    "        chunks.append(chunk)\n",
    "    print(f\"Total chunks: {len(chunks)}\")\n",
    "    for i, chunk in enumerate(chunks):\n",
    "        pkl_dir_name = os.path.join(BY_DAY_CHUNKED_OUTPUT_DIR, pickle_file).replace(\".pkl\", \"\")\n",
    "        os.makedirs(pkl_dir_name, exist_ok=True)\n",
    "        chunk.drop(columns=[\"commenter_type\", \"fragments\", \"offset\", \"updated_at\"], inplace=True)\n",
    "        chunk.to_csv(os.path.join(pkl_dir_name, f\"{i}.tsv\"), sep=TAB_CHAR, index=False)\n",
    "    "
   ],
   "metadata": {
    "collapsed": false
   },
   "id": "495de0a1b4715609"
  },
  {
   "cell_type": "code",
   "execution_count": null,
   "outputs": [],
   "source": [
    "os.makedirs(BY_DAY_ZIPPED_OUTPUT_DIR, exist_ok=False) # TODO, set to False\n",
    "\n",
    "dirs = os.listdir(BY_DAY_CHUNKED_OUTPUT_DIR)\n",
    "\n",
    "for dir in dirs:\n",
    "    print(dir)\n",
    "    files = os.listdir(os.path.join(BY_DAY_CHUNKED_OUTPUT_DIR, dir))\n",
    "    split = np.array_split(files, 4) # NOTE: Should be EQUAL to the MAX_CONCURRENCY as set in settings.toml\n",
    "    for i, files in enumerate(split):\n",
    "        os.makedirs(os.path.join(BY_DAY_ZIPPED_OUTPUT_DIR, dir), exist_ok=True)\n",
    "        with ZipFile(os.path.join(BY_DAY_ZIPPED_OUTPUT_DIR, dir, f\"{dir}_{i}.zip\"), \"w\") as zip:\n",
    "            for file in files:\n",
    "                zip.write(os.path.join(BY_DAY_CHUNKED_OUTPUT_DIR, dir, file), file)"
   ],
   "metadata": {
    "collapsed": false
   },
   "id": "b14c6b158c7ae89f"
  }
 ],
 "metadata": {
  "kernelspec": {
   "display_name": "Python 3",
   "language": "python",
   "name": "python3"
  },
  "language_info": {
   "codemirror_mode": {
    "name": "ipython",
    "version": 2
   },
   "file_extension": ".py",
   "mimetype": "text/x-python",
   "name": "python",
   "nbconvert_exporter": "python",
   "pygments_lexer": "ipython2",
   "version": "2.7.6"
  }
 },
 "nbformat": 4,
 "nbformat_minor": 5
}
