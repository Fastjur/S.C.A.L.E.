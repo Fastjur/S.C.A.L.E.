{
 "cells": [
  {
   "cell_type": "code",
   "execution_count": null,
   "id": "initial_id",
   "metadata": {
    "collapsed": true,
    "jupyter": {
     "outputs_hidden": true
    }
   },
   "outputs": [],
   "source": [
    "import matplotlib\n",
    "import os\n",
    "from datetime import timedelta\n",
    "\n",
    "import numpy as np\n",
    "import pandas as pd\n",
    "import seaborn as sns\n",
    "from matplotlib import pyplot as plt, dates\n",
    "\n",
    "sns.set_theme()\n",
    "sns.set(context=\"notebook\", font=\"Verdana\", font_scale=1.5)\n",
    "\n",
    "matplotlib.rcParams['figure.figsize'] = (16, 9)\n",
    "matplotlib.rcParams['figure.dpi'] = 200\n",
    "matplotlib.rcParams['lines.linewidth'] = 2.5\n",
    "\n",
    "BASE_DIR = \"old_synth_data/2023-11-15\"\n",
    "# BASE_DIR = \"2023-11-16_13-27-31\"\n",
    "# BASE_DIR = \"2023-11-16_14-17-41\""
   ]
  },
  {
   "cell_type": "code",
   "execution_count": null,
   "id": "363276cbc0c43ef",
   "metadata": {
    "collapsed": false
   },
   "outputs": [],
   "source": [
    "files = pd.read_csv(os.path.join(BASE_DIR, \"files.csv\"), index_col=[\"file_name\", \"pickle_files\"])\n",
    "files.rename(columns={\"file_size\": \"pickle_file_size\"}, inplace=True)\n",
    "# files[\"File name\"] = files.index.get_level_values(0)\n",
    "# files[\"Pickle file name\"] = files.index.get_level_values(1)\n",
    "# files.rename(columns={\n",
    "#     \"num_pickles\": \"Number of pickle files\",\n",
    "#     \"file_size\": \"File size (KiB)\",\n",
    "# }, inplace=True)\n",
    "# files[\"File size (KiB)\"] = files[\"File size (KiB)\"] / 1024\n",
    "files.head()"
   ]
  },
  {
   "cell_type": "code",
   "execution_count": null,
   "id": "16a51ec93da4a61f",
   "metadata": {
    "collapsed": false
   },
   "outputs": [],
   "source": [
    "df = pd.read_csv(os.path.join(BASE_DIR, \"data.csv\"))\n",
    "df.dropna(how=\"any\", inplace=True)\n",
    "df.drop_duplicates(inplace=True)\n",
    "\n",
    "df[\"file_name\"] = df[\"file_path\"].str.split(\"/\").str[-1]\n",
    "df.set_index(\"file_name\", inplace=True)\n",
    "\n",
    "# Set increasing number for every row\n",
    "df[\"Test number\"] = pd.Series(range(1, len(df.index) + 1), index=df.index)\n",
    "df[\"Duration\"] = pd.to_timedelta(df[\"duration\"])\n",
    "df[\"Duration (s)\"] = df[\"Duration\"].dt.total_seconds()\n",
    "\n",
    "print(\"#indices in df:\", len(df.index))\n",
    "print(\"#indices in files:\", len(files.index))\n",
    "df = pd.merge(df, files, left_index=True, right_on=files.index.get_level_values(0), how=\"left\")\n",
    "\n",
    "df.rename(columns={\n",
    "    \"start_time\": \"Start time\",\n",
    "    \"end_time\": \"End time\",\n",
    "    \"expected_duration_at_schedule_time\": \"Expected duration at schedule time\",\n",
    "    \"max_concurrency_at_execution_time\": \"Max concurrency at execution time\",\n",
    "    \"difference_with_deadline\": \"Difference with deadline\",\n",
    "    \"file_path\": \"File path\",\n",
    "    \"file_name\": \"File name\",\n",
    "    \"total_kwh_used\": \"Total kWh used\",\n",
    "    \"file_size\": \"File size (KiB)\",\n",
    "    \"median_processing_speed_before_test\": \"Median processing speed before test (KiB/s)\",\n",
    "    \"processing_speed\": \"Task processing speed (KiB/s)\",\n",
    "    \"percentage_error\": \"Percentage error of predicted duration vs actual duration\",\n",
    "    \"num_pickles\": \"Number of pickle files\",\n",
    "    \"pickle_file_size\": \"Pickle file size (KiB)\",\n",
    "}, inplace=True)\n",
    "\n",
    "df.sort_values(\"Start time\", inplace=True)\n",
    "# df.reset_index(inplace=True, drop=True)\n",
    "# df.index.names = [\"Test number\"]\n",
    "\n",
    "# Convert bytes to KiB\n",
    "df[\"File size (KiB)\"] = df[\"File size (KiB)\"] / 1024\n",
    "df[\"Task processing speed (KiB/s)\"] = df[\"Task processing speed (KiB/s)\"] / 1024\n",
    "df[\"Median processing speed before test (KiB/s)\"] = df[\"Median processing speed before test (KiB/s)\"] / 1024\n",
    "\n",
    "# Drop the first row (that test had no previous data to use, so used the fallback speed)\n",
    "df.drop(df.index[0], inplace=True)\n",
    "\n",
    "df.head()"
   ]
  },
  {
   "cell_type": "code",
   "execution_count": null,
   "outputs": [],
   "source": [
    "fig, ax = plt.subplots()\n",
    "sns.scatterplot(data=df, x=\"Test number\", y=\"Percentage error of predicted duration vs actual duration\", ax=ax)\n",
    "ax.set_ylim(-100, 100)\n",
    "ax.set_ylabel(\"Running time prediction error (%)\")\n",
    "ax.xaxis.set_major_formatter('{x:,.0f}')\n",
    "ax.yaxis.set_major_formatter('{x:,.0f}')\n"
   ],
   "metadata": {
    "collapsed": false
   },
   "id": "788bf20a520fe3"
  },
  {
   "cell_type": "code",
   "execution_count": null,
   "id": "581aeb4e650a7ed1",
   "metadata": {
    "collapsed": false
   },
   "outputs": [],
   "source": [
    "fig, ax = plt.subplots()\n",
    "grouped_by_num_pickles = df.groupby(\"Number of pickle files\")\n",
    "for name, group in grouped_by_num_pickles:\n",
    "    sns.histplot(group[\"File size (KiB)\"], label=name, ax=ax)\n",
    "\n",
    "ax.xaxis.set_major_formatter('{x:,.0f}')\n",
    "ax.legend([\"1 random pickle files\", \"2 random pickle files\", \"3 random pickle files\"])"
   ]
  },
  {
   "cell_type": "code",
   "execution_count": null,
   "id": "3835113b7a4a40d5",
   "metadata": {
    "collapsed": false
   },
   "outputs": [],
   "source": [
    "has_high_duration_map = np.abs(df[\"Percentage error of predicted duration vs actual duration\"]) > 50\n",
    "df_high_error = df[has_high_duration_map]\n",
    "\n",
    "pickle_file_appearances = df.index.get_level_values(1).value_counts(normalize=True) * 100\n",
    "pickle_file_appearances_with_high_error = df_high_error.index.get_level_values(1).value_counts(normalize=True) * 100\n",
    "relative_increase = (pickle_file_appearances_with_high_error - pickle_file_appearances) / pickle_file_appearances * 100\n",
    "\n",
    "df_error = pd.DataFrame(index=pickle_file_appearances.index)\n",
    "df_error[\"File name\"] = df_error.index\n",
    "df_error[\"Proportion in all tests\"] = pickle_file_appearances\n",
    "df_error[\"Proportion in tests with high error\"] = pickle_file_appearances_with_high_error\n",
    "df_error[\"Relative increase (%)\"] = relative_increase\n",
    "\n",
    "df_error.sort_values(\"Relative increase (%)\", inplace=True, ascending=False)\n",
    "df_error_melted = df_error.melt(id_vars=[\"File name\"], value_vars=[\"Proportion in all tests\", \"Proportion in tests with high error\"], var_name=\"Type\", value_name=\"Proportion (%)\")\n",
    "\n",
    "fig, axs = plt.subplots(nrows=2, sharex=True)\n",
    "sns.barplot(data=df_error_melted, x=\"File name\", y=\"Proportion (%)\", hue=\"Type\", ax=axs[0])\n",
    "sns.barplot(data=df_error, x=\"File name\", y=\"Relative increase (%)\", ax=axs[1])\n",
    "\n",
    "axs[1].set_ylim(-150, 150)\n",
    "\n",
    "plt.xticks(rotation=45, ha=\"right\")\n",
    "\n",
    "for ax in axs:\n",
    "    ax.set_xlabel(\"Pickle file name\")"
   ]
  },
  {
   "cell_type": "code",
   "execution_count": null,
   "id": "b6758ed1d33a0e8c",
   "metadata": {
    "collapsed": false
   },
   "outputs": [],
   "source": [
    "# Group items by index to 10 boxes\n",
    "df[\"Test bin\"] = pd.cut(df[\"Test number\"], bins=10, precision=0)"
   ]
  },
  {
   "cell_type": "code",
   "execution_count": null,
   "id": "ff7e94f419fc1d08",
   "metadata": {
    "collapsed": false
   },
   "outputs": [],
   "source": [
    "# Drop values with a percentage error of more than 100% or less than -100%\n",
    "#df = df[(df[\"Percentage error of predicted duration vs actual duration\"] <= 100) & (df[\"Percentage error of predicted duration vs actual duration\"] >= -100)]"
   ]
  },
  {
   "cell_type": "code",
   "execution_count": null,
   "id": "c86f41c0775d40d4",
   "metadata": {
    "collapsed": false
   },
   "outputs": [],
   "source": [
    "# Drop values with a median processing speed outside of 2 standard deviations\n",
    "#df = df[np.abs(df[\"Median processing speed before test (KiB/s)\"] - df[\"Median processing speed before test (KiB/s)\"].mean()) <= (2 * df[\"Median processing speed before test (KiB/s)\"].std())]"
   ]
  },
  {
   "cell_type": "code",
   "execution_count": null,
   "id": "a5e6d69786ad3fea",
   "metadata": {
    "collapsed": false
   },
   "outputs": [],
   "source": [
    "# Drop values with a percentage error outside of 2 standard deviations\n",
    "#df = df[np.abs(df[\"Percentage error of predicted duration vs actual duration\"] - df[\"Percentage error of predicted duration vs actual duration\"].mean()) <= (2 * df[\"Percentage error of predicted duration vs actual duration\"].std())]"
   ]
  },
  {
   "cell_type": "code",
   "execution_count": null,
   "id": "5989743380b7b33c",
   "metadata": {
    "collapsed": false
   },
   "outputs": [],
   "source": [
    "# Drop values with a processing speed outside of 2 standard deviations\n",
    "#df = df[np.abs(df[\"Task processing speed (KiB/s)\"] - df[\"Task processing speed (KiB/s)\"].mean()) <= (2 * df[\"Task processing speed (KiB/s)\"].std())]"
   ]
  },
  {
   "cell_type": "code",
   "execution_count": null,
   "id": "36b2c8992f214650",
   "metadata": {
    "collapsed": false
   },
   "outputs": [],
   "source": [
    "# Drop tests that have kinggothalion.pkl as their second level index\n",
    "\n",
    "# len_before = len(df.index.get_level_values(0).unique())\n",
    "# indices_with_kinggothalion = df.index[df.index.get_level_values(1).isin([\"kinggothalion.pkl\", \"bmkibler.pkl\"])]\n",
    "# df.drop(indices_with_kinggothalion.get_level_values(0), inplace=True)\n",
    "# len_after = len(df.index.get_level_values(0).unique())\n",
    "# \n",
    "# print(\"Dropped\", len_before - len_after, \"tests\")"
   ]
  },
  {
   "cell_type": "code",
   "execution_count": null,
   "id": "badeb09ed5b5f0dd",
   "metadata": {
    "collapsed": false
   },
   "outputs": [],
   "source": [
    "df.head()"
   ]
  },
  {
   "cell_type": "code",
   "execution_count": null,
   "id": "599d30e4f355cf45",
   "metadata": {
    "collapsed": false
   },
   "outputs": [],
   "source": [
    "df[\"Median processing speed before test (KiB/s) (moving average)\"] = df[\"Median processing speed before test (KiB/s)\"].rolling(10).mean()\n",
    "df[\"Percentage error of predicted duration vs actual duration (moving average)\"] = df[\"Percentage error of predicted duration vs actual duration\"].rolling(10).mean()\n",
    "df[\"Task processing speed (KiB/s) (moving average)\"] = df[\"Task processing speed (KiB/s)\"].rolling(10).mean()"
   ]
  },
  {
   "cell_type": "code",
   "execution_count": null,
   "id": "b0ffa708988e5b30",
   "metadata": {
    "collapsed": false
   },
   "outputs": [],
   "source": [
    "fig, axs = plt.subplots(nrows=2, sharex=True)\n",
    "sns.lineplot(\n",
    "    data=df, \n",
    "    x=\"Test number\", \n",
    "    y=\"Median processing speed before test (KiB/s)\", \n",
    "    label=\"Median processing speed before test (KiB/s)\", \n",
    "    ax=axs[0],\n",
    "    errorbar=None,\n",
    ")\n",
    "axs[0].set_ylabel(\"KiB/s\")\n",
    "\n",
    "sns.lineplot(\n",
    "    data=df, \n",
    "    x=\"Test number\", \n",
    "    y=\"Percentage error of predicted duration vs actual duration\", \n",
    "    label=\"Percentage error of predicted duration vs actual duration\", \n",
    "    ax=axs[1],\n",
    "    errorbar=None,\n",
    ")\n",
    "axs[1].set_ylim(-100, 100)\n",
    "axs[1].set_ylabel(\"Prediction error (%)\")\n",
    "\n",
    "for ax in axs:\n",
    "    ax.xaxis.set_major_formatter('{x:,.0f}')\n",
    "    ax.yaxis.set_major_formatter('{x:,.0f}')"
   ]
  },
  {
   "cell_type": "code",
   "execution_count": null,
   "id": "324e1581b976b3ed",
   "metadata": {
    "collapsed": false
   },
   "outputs": [],
   "source": [
    "fig, ax = plt.subplots(figsize=(16, 5))\n",
    "lines = [\"Task processing speed (KiB/s)\", \"Median processing speed before test (KiB/s)\"]\n",
    "for line in lines:\n",
    "    sns.lineplot(data=df, x=\"Test number\", y=line, label=line, ax=ax, errorbar=None)\n",
    "ax.set_ylabel(\"KiB/s\")\n",
    "ax.xaxis.set_major_formatter('{x:,.0f}')\n",
    "ax.yaxis.set_major_formatter('{x:,.0f}')"
   ]
  },
  {
   "cell_type": "code",
   "execution_count": null,
   "id": "46e17cd2ec9781f4",
   "metadata": {
    "collapsed": false
   },
   "outputs": [],
   "source": [
    "fig, ax = plt.subplots()\n",
    "lines = [\"Task processing speed (KiB/s)\", \"Task processing speed (KiB/s) (moving average)\"]\n",
    "for line in lines:\n",
    "    sns.lineplot(data=df, x=\"Test number\", y=line, label=line, ax=ax, errorbar=None)\n",
    "ax.set_ylabel(\"KiB/s\")"
   ]
  },
  {
   "cell_type": "code",
   "execution_count": null,
   "id": "5145549ac610c3",
   "metadata": {
    "collapsed": false
   },
   "outputs": [],
   "source": [
    "fig, ax = plt.subplots()\n",
    "sns.boxplot(data=df, x=\"Test bin\", y=\"Task processing speed (KiB/s)\", ax=ax) \n",
    "\n",
    "xticks = df[\"Test bin\"].unique()\n",
    "xtick_labels = [f\"{int(x.left) + 1}-{int(x.right)}\" for x in xticks]\n",
    "ax.set_xticklabels(xtick_labels, rotation=45)"
   ]
  },
  {
   "cell_type": "code",
   "execution_count": null,
   "id": "a9220c040688ab10",
   "metadata": {
    "collapsed": false
   },
   "outputs": [],
   "source": [
    "fig, ax = plt.subplots()\n",
    "lines = [\"Percentage error of predicted duration vs actual duration\", \"Percentage error of predicted duration vs actual duration (moving average)\"]\n",
    "for line in lines:\n",
    "    sns.lineplot(data=df, x=\"Test number\", y=line, label=line, ax=ax, errorbar=None)\n",
    "\n",
    "ax.set_ylim(-100, 100)\n",
    "ax.set_ylabel(\"Percentage error\")"
   ]
  },
  {
   "cell_type": "code",
   "execution_count": null,
   "id": "4bb978fa249fc87c",
   "metadata": {
    "collapsed": false
   },
   "outputs": [],
   "source": [
    "fig, ax = plt.subplots()\n",
    "sns.boxplot(data=df, x=\"Test bin\", y=\"Percentage error of predicted duration vs actual duration\", ax=ax)\n",
    "ax.set_ylim(-100, 100)\n",
    "ax.set_ylabel(\"Task duration prediction error (%)\")\n",
    "\n",
    "xticks = df[\"Test bin\"].unique()\n",
    "xtick_labels = [f\"{int(x.left) + 1}-{int(x.right)}\" for x in xticks]\n",
    "ax.set_xticklabels(xtick_labels, rotation=45)"
   ]
  },
  {
   "cell_type": "code",
   "execution_count": null,
   "outputs": [],
   "source": [
    "g = sns.FacetGrid(df, col=\"Number of pickle files\", height=6, aspect=1)\n",
    "g.map_dataframe(sns.lineplot, x=\"Test number\", y=\"Percentage error of predicted duration vs actual duration\", errorbar=None)\n",
    "g.set(ylim=(-100, 100))\n",
    "# Add line at 0\n",
    "for ax in g.axes.flat:\n",
    "    ax.axhline(0, ls='--', color='black')"
   ],
   "metadata": {
    "collapsed": false
   },
   "id": "80e619d76b88e8d8"
  },
  {
   "cell_type": "code",
   "execution_count": null,
   "outputs": [],
   "source": [
    "g = sns.FacetGrid(df, col=\"Number of pickle files\", height=6, aspect=1)\n",
    "g.map_dataframe(\n",
    "    sns.boxplot,\n",
    "    x=\"Test bin\",\n",
    "    y=\"Percentage error of predicted duration vs actual duration\"\n",
    ")\n",
    "g.set(ylim=(-100, 100))\n",
    "\n",
    "xticks = df[\"Test bin\"].unique()\n",
    "xtick_labels = [f\"{int(x.left) + 1}-{int(x.right)}\" for x in xticks]\n",
    "\n",
    "for ax in g.axes.flat:\n",
    "    ax.axhline(0, ls='--', color='red', alpha=0.5)\n",
    "    ax.set_xticklabels(xtick_labels, rotation=90)\n",
    "    ax.set_ylabel(\"Prediction error (%)\")\n",
    "    \n",
    "plt.tight_layout()"
   ],
   "metadata": {
    "collapsed": false
   },
   "id": "27debe863be41472"
  }
 ],
 "metadata": {
  "kernelspec": {
   "display_name": "Python 3 (ipykernel)",
   "language": "python",
   "name": "python3"
  },
  "language_info": {
   "codemirror_mode": {
    "name": "ipython",
    "version": 3
   },
   "file_extension": ".py",
   "mimetype": "text/x-python",
   "name": "python",
   "nbconvert_exporter": "python",
   "pygments_lexer": "ipython3",
   "version": "3.11.2"
  }
 },
 "nbformat": 4,
 "nbformat_minor": 5
}
