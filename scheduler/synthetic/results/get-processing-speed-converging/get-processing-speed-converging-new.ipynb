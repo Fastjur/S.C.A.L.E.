{
 "cells": [
  {
   "cell_type": "code",
   "execution_count": null,
   "id": "initial_id",
   "metadata": {
    "collapsed": true
   },
   "outputs": [],
   "source": [
    "import matplotlib\n",
    "import os\n",
    "from datetime import timedelta\n",
    "\n",
    "import numpy as np\n",
    "import pandas as pd\n",
    "import seaborn as sns\n",
    "from matplotlib import pyplot as plt, dates\n",
    "\n",
    "sns.set_theme('notebook')\n",
    "sns.set(font=\"Verdana\", font_scale=1.5)\n",
    "\n",
    "matplotlib.rcParams['figure.figsize'] = (16, 9)\n",
    "matplotlib.rcParams['figure.dpi'] = 200\n",
    "matplotlib.rcParams['lines.linewidth'] = 2.5\n",
    "\n",
    "BASE_DIR = \"2023-11-30\""
   ]
  },
  {
   "cell_type": "code",
   "execution_count": null,
   "outputs": [],
   "source": [
    "df = pd.read_csv(os.path.join(BASE_DIR, \"data.csv\"), parse_dates=[\"start_time\", \"end_time\"])\n",
    "df.sort_values(\"start_time\", inplace=True)\n",
    "df.reset_index(inplace=True, drop=True)\n",
    "df.index.names = [\"Test number\"]\n",
    "\n",
    "df[\"file_size\"] = df[\"file_size\"] / 1024\n",
    "df[\"File name\"] = df[\"file_path\"].apply(lambda x: os.path.basename(x))\n",
    "df[\"Test bin\"] = pd.cut(df.index, bins=10, precision=0)\n",
    "df[\"mean_processing_speed\"] = df[\"processing_speed\"].expanding().mean()\n",
    "df[\"median_processing_speed\"] = df[\"processing_speed\"].expanding().median()\n",
    "df[\"duration\"] = pd.to_timedelta(df[\"duration\"])\n",
    "df[\"Test duration (s)\"] = df[\"duration\"].apply(lambda x: x.total_seconds())"
   ],
   "metadata": {
    "collapsed": false
   },
   "id": "597875e62607dc7a"
  },
  {
   "cell_type": "code",
   "execution_count": null,
   "outputs": [],
   "source": [
    "fig, ax = plt.subplots()\n",
    "sns.lineplot(data=df, x=df.index, y=\"mean_processing_speed\", label=\"Mean\", ax=ax)\n",
    "sns.lineplot(data=df, x=df.index, y=\"median_processing_speed\", label=\"Median\", ax=ax)\n",
    "ax.set_ylabel(\"Processing speed (B/s)\")\n",
    "# ax.set_ylim(-100, 100)"
   ],
   "metadata": {
    "collapsed": false
   },
   "id": "90688e7d2e34a6a7"
  },
  {
   "cell_type": "code",
   "execution_count": null,
   "outputs": [],
   "source": [
    "fig, ax = plt.subplots()\n",
    "sns.lineplot(data=df, x=df.index, y=\"percentage_error\", ax=ax)\n",
    "ax.set_ylabel(\"Error (%)\")\n",
    "ax.set_ylim(-100, 100)"
   ],
   "metadata": {
    "collapsed": false
   },
   "id": "c37869fcfc0e68b6"
  },
  {
   "cell_type": "code",
   "execution_count": null,
   "outputs": [],
   "source": [
    "fig, ax = plt.subplots()\n",
    "sns.lineplot(data=df, x=df.index, y=\"processing_speed\", ax=ax)\n",
    "ax.set_ylabel(\"Processing speed (B/s)\")\n",
    "# ax.set_ylim(-100, 100)"
   ],
   "metadata": {
    "collapsed": false
   },
   "id": "32e2779c49945bc8"
  },
  {
   "cell_type": "code",
   "execution_count": null,
   "outputs": [],
   "source": [
    "fig, axs = plt.subplots(nrows=2, figsize=(16, 12))\n",
    "sns.boxplot(data=df, x=df[\"Test bin\"], y=\"percentage_error\", ax=axs[0])\n",
    "sns.lineplot(data=df, x=df.index, y=\"percentage_error\", ax=axs[1])\n",
    "\n",
    "xticks = df[\"Test bin\"].unique()\n",
    "xtick_labels = [f\"{int(x.left) + 1}-{int(x.right)}\" for x in xticks]\n",
    "\n",
    "axs[0].set_xticklabels(xtick_labels)\n",
    "\n",
    "for ax in axs:\n",
    "    ax.set_ylim(-100, 100)\n",
    "    ax.set_ylabel(\"Error (%)\")"
   ],
   "metadata": {
    "collapsed": false
   },
   "id": "1ef232bc7a9c1113"
  },
  {
   "cell_type": "code",
   "execution_count": null,
   "outputs": [],
   "source": [
    "first_twelve_df = df[df.index < 12]\n",
    "first_twelve_df[\"Test number\"] = first_twelve_df.index\n",
    "\n",
    "first_twelve_df"
   ],
   "metadata": {
    "collapsed": false
   },
   "id": "f545a03d129c7db3"
  },
  {
   "cell_type": "code",
   "execution_count": null,
   "outputs": [],
   "source": [
    "fig, ax = plt.subplots()\n",
    "sns.regplot(data=df, x=\"file_size\", y=\"processing_speed\", logx=True, ax=ax)\n",
    "ax.set_xlabel(\"File size (KiB)\")\n",
    "ax.set_ylabel(\"Processing speed (Bytes/s)\")"
   ],
   "metadata": {
    "collapsed": false
   },
   "id": "dd3fe13700b7409b"
  },
  {
   "cell_type": "code",
   "execution_count": null,
   "outputs": [],
   "source": [
    "fig, ax = plt.subplots()\n",
    "sns.histplot(data=df, x=\"file_size\", ax=ax)"
   ],
   "metadata": {
    "collapsed": false
   },
   "id": "d77b2796294fbebb"
  },
  {
   "cell_type": "code",
   "execution_count": null,
   "outputs": [],
   "source": [
    "df[\"File size bin\"] = pd.cut(df[\"file_size\"], bins=[0, 1024, 10240, np.infty], precision=0, labels=[\"<1KiB\", \"1KiB-10KiB\", \">10KiB\"])"
   ],
   "metadata": {
    "collapsed": false
   },
   "id": "ab4d1f5eb16feb39"
  },
  {
   "cell_type": "code",
   "execution_count": null,
   "outputs": [],
   "source": [
    "g = sns.FacetGrid(df, col=\"File size bin\", col_wrap=2, height=6, aspect=1.2, sharex=False, sharey=False)\n",
    "g.map_dataframe(sns.regplot, x=\"file_size\", y=\"processing_speed\", logx=False)\n",
    "\n",
    "small_median_speed = df[df[\"file_size\"] < 1024][\"processing_speed\"].median()\n",
    "medium_median_speed = df[(df[\"file_size\"] >= 1024) & (df[\"file_size\"] < 10240)][\"processing_speed\"].median()\n",
    "large_median_speed = df[df[\"file_size\"] >= 10240][\"processing_speed\"].median()\n",
    "\n",
    "g.axes[0].axhline(small_median_speed, color=\"red\", linestyle=\"--\", label=f\"Median speed: {small_median_speed:.0f} B/s\")\n",
    "g.axes[1].axhline(medium_median_speed, color=\"red\", linestyle=\"--\", label=f\"Median speed: {medium_median_speed:.0f} B/s\")\n",
    "g.axes[2].axhline(large_median_speed, color=\"red\", linestyle=\"--\", label=f\"Median speed: {large_median_speed:.0f} B/s\")\n",
    "\n",
    "for ax in g.axes:\n",
    "    ax.set_xlabel(\"File size (KiB)\")\n",
    "    ax.set_ylabel(\"Processing speed (B/s)\")\n",
    "    ax.xaxis.set_major_formatter('{x:,.0f}')\n",
    "    ax.yaxis.set_major_formatter('{x:,.0f}')\n",
    "\n",
    "g.fig.tight_layout()\n",
    "g.add_legend()"
   ],
   "metadata": {
    "collapsed": false
   },
   "id": "8c5865f30d195ae9"
  },
  {
   "cell_type": "code",
   "execution_count": null,
   "outputs": [],
   "source": [
    "g = sns.FacetGrid(df, col=\"File size bin\", col_wrap=3, height=6, aspect=1, sharex=False, sharey=False)\n",
    "g.map_dataframe(sns.regplot, x=\"file_size\", y=\"processing_speed\", logx=False)\n",
    "\n",
    "for ax in g.axes:\n",
    "    ax.set_xlabel(\"File size (KiB)\")\n",
    "    ax.set_ylabel(\"Processing speed (B/s)\")\n",
    "    ax.xaxis.set_major_formatter('{x:,.0f}')\n",
    "    ax.yaxis.set_major_formatter('{x:,.0f}')"
   ],
   "metadata": {
    "collapsed": false
   },
   "id": "fda806227b97df14"
  }
 ],
 "metadata": {
  "kernelspec": {
   "display_name": "Python 3",
   "language": "python",
   "name": "python3"
  },
  "language_info": {
   "codemirror_mode": {
    "name": "ipython",
    "version": 2
   },
   "file_extension": ".py",
   "mimetype": "text/x-python",
   "name": "python",
   "nbconvert_exporter": "python",
   "pygments_lexer": "ipython2",
   "version": "2.7.6"
  }
 },
 "nbformat": 4,
 "nbformat_minor": 5
}
