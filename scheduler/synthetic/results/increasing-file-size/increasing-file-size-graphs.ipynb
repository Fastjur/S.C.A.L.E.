{
 "cells": [
  {
   "cell_type": "code",
   "execution_count": null,
   "id": "22652342b54822cf",
   "metadata": {
    "collapsed": false
   },
   "outputs": [],
   "source": [
    "import matplotlib.pyplot as plt\n",
    "import pandas as pd\n",
    "import seaborn as sns"
   ]
  },
  {
   "cell_type": "code",
   "execution_count": null,
   "id": "initial_id",
   "metadata": {
    "collapsed": true,
    "jupyter": {
     "outputs_hidden": true
    }
   },
   "outputs": [],
   "source": [
    "DATA_DIR = '2023-11-09_23-22-18'\n",
    "\n",
    "sns.set_theme('notebook')\n",
    "# sns.set_style('whitegrid')"
   ]
  },
  {
   "cell_type": "code",
   "execution_count": null,
   "id": "a30aba54a182f460",
   "metadata": {
    "collapsed": false
   },
   "outputs": [],
   "source": [
    "df = pd.read_csv(f'{DATA_DIR}/data.csv', index_col=\"source_file_id\")\n",
    "df[\"processing_speed\"] = df[\"processing_speed\"] / 1024 # convert to KiB/s\n",
    "df[\"file_size\"] = df[\"file_size\"] / 1024 / 1024 # convert to MiB\n",
    "df.head()"
   ]
  },
  {
   "cell_type": "code",
   "execution_count": null,
   "id": "a3c49e378b81a058",
   "metadata": {
    "collapsed": false
   },
   "outputs": [],
   "source": [
    "fig, ax = plt.subplots(figsize=(10, 10))\n",
    "sns.regplot(data=df, x='file_size', y='processing_speed', ax=ax)\n",
    "ax.set_xlabel('File size (MiB)')\n",
    "ax.set_ylabel('Processing speed (KiB/s)')\n",
    "fig.legend(labels=['task', 'regression line', '95% confidence interval'])"
   ]
  }
 ],
 "metadata": {
  "kernelspec": {
   "display_name": "Python 3 (ipykernel)",
   "language": "python",
   "name": "python3"
  },
  "language_info": {
   "codemirror_mode": {
    "name": "ipython",
    "version": 3
   },
   "file_extension": ".py",
   "mimetype": "text/x-python",
   "name": "python",
   "nbconvert_exporter": "python",
   "pygments_lexer": "ipython3",
   "version": "3.11.2"
  }
 },
 "nbformat": 4,
 "nbformat_minor": 5
}
