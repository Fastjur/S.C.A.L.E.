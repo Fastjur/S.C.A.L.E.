{
 "cells": [
  {
   "cell_type": "code",
   "execution_count": null,
   "id": "initial_id",
   "metadata": {},
   "outputs": [],
   "source": [
    "import os\n",
    "from datetime import timedelta\n",
    "\n",
    "import numpy as np\n",
    "import pandas as pd\n",
    "import seaborn as sns\n",
    "import matplotlib\n",
    "from matplotlib import pyplot as plt, dates\n",
    "\n",
    "BASE_DIR = \"2023-11-29_23-04-26\"\n",
    "\n",
    "sns.set_theme('notebook')\n",
    "sns.set(font=\"Verdana\")\n",
    "\n",
    "matplotlib.rcParams['figure.figsize'] = (16, 9)"
   ]
  },
  {
   "cell_type": "code",
   "execution_count": null,
   "id": "2a8f056cb06eb495",
   "metadata": {
    "collapsed": false
   },
   "outputs": [],
   "source": [
    "files = pd.read_csv(os.path.join(BASE_DIR, \"files.csv\"))\n",
    "files.head()"
   ]
  },
  {
   "cell_type": "code",
   "execution_count": null,
   "id": "9be31eee2151a5ff",
   "metadata": {
    "collapsed": false
   },
   "outputs": [],
   "source": [
    "with_scheduler = pd.read_csv(os.path.join(BASE_DIR, \"with_scheduler.csv\"), parse_dates=[\"start_time\", \"end_time\"])\n",
    "with_scheduler[\"expected_duration_at_schedule_time\"] = pd.to_timedelta(\n",
    "    with_scheduler[\"expected_duration_at_schedule_time\"])\n",
    "with_scheduler[\"duration\"] = pd.to_timedelta(with_scheduler[\"duration\"])\n",
    "with_scheduler[\"difference_with_deadline\"] = pd.to_timedelta(with_scheduler[\"difference_with_deadline\"])\n",
    "with_scheduler.head()"
   ]
  },
  {
   "cell_type": "code",
   "execution_count": null,
   "id": "9aa5c9e0f75c59dd",
   "metadata": {
    "collapsed": false
   },
   "outputs": [],
   "source": [
    "with_scheduler_carbon_intensity = pd.read_csv(os.path.join(BASE_DIR, \"with_scheduler_carbon_intensity.csv\"),\n",
    "                                              parse_dates=[\"datetime\"])\n",
    "with_scheduler_carbon_intensity.sort_values(\"datetime\", inplace=True)\n",
    "with_scheduler_carbon_intensity.head()"
   ]
  },
  {
   "cell_type": "code",
   "execution_count": null,
   "id": "1a51b9d34f2ad70e",
   "metadata": {
    "collapsed": false
   },
   "outputs": [],
   "source": [
    "with_scheduler_kwh = pd.read_csv(os.path.join(BASE_DIR, \"with_scheduler_kwh.csv\"), parse_dates=[\"read_time\"])\n",
    "with_scheduler_kwh.sort_values(\"read_time\", inplace=True)\n",
    "with_scheduler_kwh.head()"
   ]
  },
  {
   "cell_type": "code",
   "execution_count": null,
   "id": "ece437c6554127b5",
   "metadata": {
    "collapsed": false
   },
   "outputs": [],
   "source": [
    "without_scheduler = pd.read_csv(os.path.join(BASE_DIR, \"without_scheduler.csv\"))\n",
    "without_scheduler[\"expected_duration_at_schedule_time\"] = pd.to_timedelta(\n",
    "    without_scheduler[\"expected_duration_at_schedule_time\"])\n",
    "without_scheduler[\"duration\"] = pd.to_timedelta(without_scheduler[\"duration\"])\n",
    "without_scheduler[\"difference_with_deadline\"] = pd.to_timedelta(without_scheduler[\"difference_with_deadline\"])\n",
    "without_scheduler_carbon_intensity = pd.read_csv(os.path.join(BASE_DIR, \"without_scheduler_carbon_intensity.csv\"),\n",
    "                                                 parse_dates=[\"datetime\"])\n",
    "without_scheduler_carbon_intensity.sort_values(\"datetime\", inplace=True)\n",
    "without_scheduler_kwh = pd.read_csv(os.path.join(BASE_DIR, \"without_scheduler_kwh.csv\"), parse_dates=[\"read_time\"])\n",
    "without_scheduler_kwh.sort_values(\"read_time\", inplace=True)"
   ]
  },
  {
   "cell_type": "code",
   "execution_count": null,
   "id": "688b1c5a11570550",
   "metadata": {
    "collapsed": false
   },
   "outputs": [],
   "source": [
    "print(\"Unique files:\", len(files.file_name.unique()))"
   ]
  },
  {
   "cell_type": "code",
   "execution_count": null,
   "id": "b4f931663feaac16",
   "metadata": {
    "collapsed": false
   },
   "outputs": [],
   "source": [
    "def calculate_emissions(kwh_df: pd.DataFrame, carbon_intensity_df: pd.DataFrame) -> pd.DataFrame:\n",
    "    emissions_df = pd.merge_asof(kwh_df, carbon_intensity_df, left_on=\"read_time\", right_on=\"datetime\",\n",
    "                                 direction=\"nearest\")\n",
    "    emissions_df[\"time_error\"] = (emissions_df[\"read_time\"] - emissions_df[\"datetime\"]).abs()\n",
    "    emissions_df.drop(columns=[\"datetime\"], inplace=True)\n",
    "    emissions_df[\"emissions (gCO₂eq)\"] = emissions_df[\"kwh\"] * emissions_df[\"Carbon Intensity gCO₂eq/kWh (LCA) median\"]\n",
    "    emissions_df[\"emissions (gCO₂eq) cumsum\"] = emissions_df[\"emissions (gCO₂eq)\"].cumsum()\n",
    "    return emissions_df"
   ]
  },
  {
   "cell_type": "code",
   "execution_count": null,
   "id": "b351f440f03b01b0",
   "metadata": {
    "collapsed": false
   },
   "outputs": [],
   "source": [
    "with_scheduler_emissions = calculate_emissions(with_scheduler_kwh, with_scheduler_carbon_intensity)\n",
    "with_scheduler_emissions"
   ]
  },
  {
   "cell_type": "code",
   "execution_count": null,
   "id": "19bb7c8a7f78b413",
   "metadata": {
    "collapsed": false
   },
   "outputs": [],
   "source": [
    "without_scheduler_emissions = calculate_emissions(without_scheduler_kwh, without_scheduler_carbon_intensity)\n",
    "without_scheduler_emissions"
   ]
  },
  {
   "cell_type": "code",
   "execution_count": null,
   "id": "d03a63f1bb07af89",
   "metadata": {
    "collapsed": false
   },
   "outputs": [],
   "source": [
    "def resample_to_24h(carbon_intensity_df: pd.DataFrame, df: pd.DataFrame) -> pd.DataFrame:\n",
    "    timeframe_start = carbon_intensity_df[\"datetime\"].min()\n",
    "    timeframe_end = carbon_intensity_df[\"datetime\"].max()\n",
    "    timeframe_range = timeframe_end - timeframe_start\n",
    "    \n",
    "    print(\"timeframe_start\", timeframe_start)\n",
    "    print(\"timeframe_end\", timeframe_end)\n",
    "    print(\"timeframe_range\", timeframe_range)\n",
    "    \n",
    "    date = timeframe_start.to_period(\"D\").to_timestamp()\n",
    "    \n",
    "    res_df = df.copy()\n",
    "    \n",
    "    res_df[\"resampled_read_time\"] = pd.to_datetime(date + ((res_df[\"read_time\"] - timeframe_start) / timeframe_range * pd.Timedelta(hours=24)))\n",
    "    # res_df[\"resampled_read_time\"] = res_df[\"resampled_read_time\"].dt.strftime(\"%H:%M\")\n",
    "\n",
    "    return res_df\n",
    "\n",
    "\n",
    "with_scheduler_emissions_24h = resample_to_24h(with_scheduler_carbon_intensity, with_scheduler_emissions)\n",
    "without_scheduler_emissions_24h = resample_to_24h(without_scheduler_carbon_intensity, without_scheduler_emissions)\n",
    "\n",
    "with_scheduler_emissions_24h\n"
   ]
  },
  {
   "cell_type": "code",
   "execution_count": null,
   "id": "81a1c567863e794",
   "metadata": {
    "collapsed": false
   },
   "outputs": [],
   "source": [
    "fig, axs = plt.subplots(1, 2, figsize=(12, 4), sharex=True, sharey=True)\n",
    "sns.lineplot(without_scheduler_emissions_24h, x=\"resampled_read_time\", y=\"emissions (gCO₂eq)\", ax=axs[0])\n",
    "sns.lineplot(with_scheduler_emissions_24h, x=\"resampled_read_time\", y=\"emissions (gCO₂eq)\", ax=axs[1])\n",
    "\n",
    "# axs[0].set_xticklabels(without_scheduler_emissions_24h[\"resampled_read_time\"], rotation=45, horizontalalignment='right')\n",
    "\n",
    "for ax in axs:\n",
    "    ax.set_xlabel(\"Time\")\n",
    "    ax.set_xlim(pd.to_datetime(\"2023-11-12 00:00:00\"), pd.to_datetime(\"2023-11-13 00:00:00\"))\n",
    "    ax.xaxis.set_major_formatter(dates.DateFormatter('%H:%M'))\n",
    "    ax.set_xticklabels(ax.get_xticklabels(), rotation=45, horizontalalignment='right')\n",
    "\n",
    "\n",
    "\n",
    "axs[0].set_title(\"Without scheduler\")\n",
    "axs[1].set_title(\"With scheduler\")"
   ]
  },
  {
   "cell_type": "code",
   "execution_count": null,
   "id": "3c957e2ccbbf2c11",
   "metadata": {
    "collapsed": false
   },
   "outputs": [],
   "source": [
    "test_df = pd.DataFrame([\n",
    "    {\"read_time\": pd.to_datetime(\"2023-01-01T14:00:00Z\"), \"kwh\": 1},\n",
    "    {\"read_time\": pd.to_datetime(\"2023-01-01T15:00:00Z\"), \"kwh\": 2},\n",
    "    {\"read_time\": pd.to_datetime(\"2023-01-01T16:00:00Z\"), \"kwh\": 3},\n",
    "])\n",
    "test_df.set_index(\"read_time\", inplace=True)\n",
    "\n",
    "new_index = pd.date_range(pd.to_datetime(\"2023-01-01T00:00:00Z\"), pd.to_datetime(\"2023-01-02T00:00:00Z\"), freq=\"1H\")\n",
    "\n",
    "test_df = test_df.reindex(new_index)\n",
    "\n",
    "test_df"
   ]
  }
 ],
 "metadata": {
  "kernelspec": {
   "display_name": "Python 3 (ipykernel)",
   "language": "python",
   "name": "python3"
  },
  "language_info": {
   "codemirror_mode": {
    "name": "ipython",
    "version": 3
   },
   "file_extension": ".py",
   "mimetype": "text/x-python",
   "name": "python",
   "nbconvert_exporter": "python",
   "pygments_lexer": "ipython3",
   "version": "3.11.2"
  }
 },
 "nbformat": 4,
 "nbformat_minor": 5
}
