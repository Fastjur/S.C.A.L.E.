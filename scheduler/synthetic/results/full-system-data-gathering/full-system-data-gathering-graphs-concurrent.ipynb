{
 "cells": [
  {
   "cell_type": "code",
   "execution_count": null,
   "id": "initial_id",
   "metadata": {},
   "outputs": [],
   "source": [
    "import os\n",
    "\n",
    "import matplotlib\n",
    "import numpy as np\n",
    "import pandas as pd\n",
    "import seaborn as sns\n",
    "from matplotlib import pyplot as plt\n",
    "\n",
    "BASE_DIR = \"2023-12-03\"\n",
    "WITH_SCHEDULER_DIR = os.path.join(BASE_DIR, \"with_scheduler\")\n",
    "WITHOUT_SCHEDULER_DIR = os.path.join(BASE_DIR, \"without_scheduler\")\n",
    "\n",
    "SEASON_FOR_BIG_PLOTS = \"summer\"\n",
    "SEASONS = [\"spring\", \"summer\", \"fall\", \"winter\"]\n",
    "EMISSIONS_KEY = \"Carbon Intensity gCO₂eq/kWh (LCA) mean\"\n",
    "\n",
    "sns.set_theme('notebook')\n",
    "sns.set(font=\"Verdana\", font_scale=1.5)\n",
    "\n",
    "matplotlib.rcParams['figure.figsize'] = (16, 9)\n",
    "matplotlib.rcParams['figure.dpi'] = 200\n",
    "matplotlib.rcParams['lines.linewidth'] = 2.5\n",
    "\n",
    "np.random.seed(62)"
   ]
  },
  {
   "cell_type": "code",
   "execution_count": null,
   "outputs": [],
   "source": [
    "fall_emissions_df = pd.read_csv(\"2021_fall_emissions.csv\", index_col=[\"hour\", \"minute\"])\n",
    "spring_emissions_df = pd.read_csv(\"2021_spring_emissions.csv\", index_col=[\"hour\", \"minute\"])\n",
    "summer_emissions_df = pd.read_csv(\"2021_summer_emissions.csv\", index_col=[\"hour\", \"minute\"])\n",
    "winter_emissions_df = pd.read_csv(\"2021_winter_emissions.csv\", index_col=[\"hour\", \"minute\"])\n",
    "\n",
    "fall_lowest_emissions = fall_emissions_df[EMISSIONS_KEY].min()\n",
    "spring_lowest_emissions = spring_emissions_df[EMISSIONS_KEY].min()\n",
    "summer_lowest_emissions = summer_emissions_df[EMISSIONS_KEY].min()\n",
    "winter_lowest_emissions = winter_emissions_df[EMISSIONS_KEY].min()"
   ],
   "metadata": {
    "collapsed": false
   },
   "id": "35952b4d56f7587c"
  },
  {
   "cell_type": "code",
   "execution_count": null,
   "outputs": [],
   "source": [
    "# TODO, currently using the same run, just setting times differently.\n",
    "without_scheduler = pd.read_csv(os.path.join(WITHOUT_SCHEDULER_DIR, \"data.csv\"), parse_dates=[\"start_time\", \"end_time\"], index_col=[\"source_file_id\"])\n",
    "without_scheduler_kwh = pd.read_csv(os.path.join(WITHOUT_SCHEDULER_DIR, \"kwh.csv\"), parse_dates=[\"read_time\"])\n",
    "\n",
    "with_scheduler = pd.read_csv(os.path.join(WITH_SCHEDULER_DIR, \"data.csv\"), parse_dates=[\"start_time\", \"end_time\"], index_col=[\"source_file_id\"])\n",
    "with_scheduler_kwh = pd.read_csv(os.path.join(WITH_SCHEDULER_DIR, \"kwh.csv\"), parse_dates=[\"read_time\"])"
   ],
   "metadata": {
    "collapsed": false
   },
   "id": "c3403dac794d44a1"
  },
  {
   "cell_type": "code",
   "execution_count": null,
   "outputs": [],
   "source": [
    "# Verify that for every row in without_scheduler, the total_kwh_used is the sum of the values in the kwh.csv file\n",
    "without_scheduler[\"summed_kwh\"] = without_scheduler_kwh.groupby(\"metric\")[\"kwh\"].sum()\n",
    "without_scheduler[\"kwh_difference\"] = np.abs(without_scheduler[\"total_kwh_used\"] - without_scheduler[\"summed_kwh\"])\n",
    "\n",
    "with_scheduler[\"summed_kwh\"] = with_scheduler_kwh.groupby(\"metric\")[\"kwh\"].sum()\n",
    "with_scheduler[\"kwh_difference\"] = np.abs(with_scheduler[\"total_kwh_used\"] - with_scheduler[\"summed_kwh\"])\n",
    "for row in without_scheduler.iterrows():\n",
    "    if row[1][\"kwh_difference\"] > 1e-6:\n",
    "        raise ValueError(f\"kwh_difference is not 0, it is {row[1]['kwh_difference']} for row {row[0]}\")\n",
    "    \n",
    "for row in with_scheduler.iterrows():\n",
    "    if row[1][\"kwh_difference\"] > 1e-6:\n",
    "        raise ValueError(f\"kwh_difference is not 0, it is {row[1]['kwh_difference']} for row {row[0]}\")"
   ],
   "metadata": {
    "collapsed": false
   },
   "id": "509fe5152f0dec61"
  },
  {
   "cell_type": "code",
   "execution_count": null,
   "id": "9be31eee2151a5ff",
   "metadata": {
    "collapsed": false
   },
   "outputs": [],
   "source": [
    "for df in [without_scheduler, with_scheduler]:\n",
    "    df.sort_values(\"start_time\", inplace=True)\n",
    "    df.reset_index(inplace=True, drop=True)\n",
    "    df.index.names = [\"Test number\"]\n",
    "    df[\"expected_duration_at_schedule_time\"] = pd.to_timedelta(df[\"expected_duration_at_schedule_time\"])\n",
    "    df[\"duration\"] = pd.to_timedelta(df[\"duration\"])\n",
    "    df[\"Test duration (s)\"] = df[\"duration\"].apply(lambda x: x.total_seconds()).astype(float)\n",
    "    df[\"difference_with_deadline\"] = pd.to_timedelta(df[\"difference_with_deadline\"])\n",
    "    df[\"File name\"] = df[\"file_path\"].apply(lambda x: os.path.basename(x))\n",
    "    df[\"Synthetic test date\"] = df[\"File name\"].apply(lambda x: pd.to_datetime(x.split(\"_\")[0].split(\".\")[0]))\n",
    "    df[\"Total kWh consumed (cumulative)\"] = df[\"total_kwh_used\"].cumsum()"
   ]
  },
  {
   "cell_type": "code",
   "execution_count": null,
   "outputs": [],
   "source": [
    "emissions_index_options = summer_emissions_df.index\n",
    "# Pick a random emissions index for each row\n",
    "emissions_index = np.random.choice(emissions_index_options, size=len(without_scheduler))\n",
    "# emissions_index = [(8,0) for _ in range(len(without_scheduler))]\n",
    "without_scheduler[\"Without scheduler arrival time\"] = emissions_index\n",
    "without_scheduler[\"Without scheduler arrival time HH:mm\"] = pd.to_datetime(\n",
    "    without_scheduler[\"Without scheduler arrival time\"].apply(lambda x: f\"{x[0]:02d}:{x[1]:02d}\"),\n",
    "    format=\"%H:%M\"\n",
    ")\n",
    "\n",
    "for season in SEASONS:\n",
    "    without_scheduler[f\"{season.capitalize()} Emissions (gCO₂eq)\"] = without_scheduler[\"Without scheduler arrival time\"].apply(lambda x: eval(f\"{season}_emissions_df.loc[x, EMISSIONS_KEY]\")) * without_scheduler[\"total_kwh_used\"]\n",
    "    without_scheduler[f\"{season.capitalize()} Cumulative Emissions (gCO₂eq)\"] = without_scheduler[f\"{season.capitalize()} Emissions (gCO₂eq)\"].cumsum()\n",
    "    \n",
    "    with_scheduler[f\"{season.capitalize()} Emissions (gCO₂eq)\"] = with_scheduler[\"total_kwh_used\"] * eval(f\"{season}_lowest_emissions\")\n",
    "    with_scheduler[f\"{season.capitalize()} Cumulative Emissions (gCO₂eq)\"] = with_scheduler[f\"{season.capitalize()} Emissions (gCO₂eq)\"].cumsum()"
   ],
   "metadata": {
    "collapsed": false
   },
   "id": "6850167035e95dad"
  },
  {
   "cell_type": "code",
   "execution_count": null,
   "outputs": [],
   "source": [
    "fig, ax = plt.subplots()\n",
    "sns.histplot(\n",
    "    data=with_scheduler,\n",
    "    x=\"Test duration (s)\",\n",
    "    kde=True,\n",
    "    ax=ax,\n",
    ")"
   ],
   "metadata": {
    "collapsed": false
   },
   "id": "23b2036638524c5f"
  },
  {
   "cell_type": "code",
   "execution_count": null,
   "outputs": [],
   "source": [
    "fig, axs = plt.subplots(ncols=2, sharex=True, sharey=True, figsize=(15, 5))\n",
    "sns.histplot(\n",
    "    data=without_scheduler,\n",
    "    x=\"Test duration (s)\",\n",
    "    ax=axs[0],\n",
    ")\n",
    "sns.histplot(\n",
    "    data=with_scheduler,\n",
    "    x=\"Test duration (s)\",\n",
    "    ax=axs[1],\n",
    ")\n",
    "\n",
    "axs[0].set_title(\"Without scheduler\")\n",
    "axs[1].set_title(\"With scheduler\")"
   ],
   "metadata": {
    "collapsed": false
   },
   "id": "f3a6dd5355f4551c"
  },
  {
   "cell_type": "code",
   "execution_count": null,
   "outputs": [],
   "source": [
    "fig, ax = plt.subplots()\n",
    "sns.lineplot(\n",
    "    data=without_scheduler,\n",
    "    x=\"Synthetic test date\",\n",
    "    y=\"Test duration (s)\",\n",
    "    label=\"Without scheduler\",\n",
    "    ax=ax,\n",
    ")\n",
    "sns.lineplot(\n",
    "    data=with_scheduler,\n",
    "    x=\"Synthetic test date\",\n",
    "    y=\"Test duration (s)\",\n",
    "    label=\"With scheduler\",\n",
    "    ax=ax,\n",
    ")\n",
    "\n",
    "xticks = pd.date_range(start=\"2018-03-01\", end=\"2018-06-25\", periods=10)\n",
    "ax.set_xticks(xticks)\n",
    "ax.set_xticklabels(xticks.strftime(\"%m-%d\"), rotation=45, horizontalalignment='right')"
   ],
   "metadata": {
    "collapsed": false
   },
   "id": "5de2fffb0fabf395"
  },
  {
   "cell_type": "code",
   "execution_count": null,
   "outputs": [],
   "source": [
    "fig, ax = plt.subplots(figsize=(16, 5))\n",
    "sns.lineplot(\n",
    "    data=without_scheduler,\n",
    "    x=\"Synthetic test date\",\n",
    "    y=\"Total kWh consumed (cumulative)\",\n",
    "    label=\"Without concurrency\",\n",
    ")\n",
    "sns.lineplot(\n",
    "    data=with_scheduler,\n",
    "    x=\"Synthetic test date\",\n",
    "    y=\"Total kWh consumed (cumulative)\",\n",
    "    label=\"With concurrency\",\n",
    ")\n",
    "xticks = pd.date_range(start=\"2018-03-01\", end=\"2018-06-25\", periods=10)\n",
    "ax.set_xticks(xticks)\n",
    "ax.set_xticklabels(xticks.strftime(\"%m-%d\"), rotation=45, horizontalalignment='right')\n",
    "ax.set_ylabel(\"kWh consumed (cumulative)\")"
   ],
   "metadata": {
    "collapsed": false
   },
   "id": "c79250901833b890"
  },
  {
   "cell_type": "code",
   "execution_count": null,
   "outputs": [],
   "source": [
    "fig, axs = plt.subplots(ncols=2, sharey=True, figsize=(15, 5))\n",
    "for season in SEASONS:\n",
    "    without_scheduler_total_emissions = without_scheduler[f\"{season.capitalize()} Cumulative Emissions (gCO₂eq)\"].iloc[-1]\n",
    "    with_scheduler_total_emissions = with_scheduler[f\"{season.capitalize()} Cumulative Emissions (gCO₂eq)\"].iloc[-1]\n",
    "    print(f\"{season.capitalize()} total emissions without scheduler:\", without_scheduler_total_emissions)\n",
    "    print(f\"{season.capitalize()} total emissions with scheduler:\", with_scheduler_total_emissions)\n",
    "    print(f\"{season.capitalize()} total emissions saved:\", without_scheduler_total_emissions - with_scheduler_total_emissions)\n",
    "    print(f\"{season.capitalize()} total emissions saved (%)\", ((without_scheduler_total_emissions - with_scheduler_total_emissions) / without_scheduler_total_emissions) * 100)\n",
    "    print()\n",
    "    \n",
    "    sns.lineplot(\n",
    "        data=without_scheduler,\n",
    "        x=\"Synthetic test date\",\n",
    "        y=f\"{season.capitalize()} Cumulative Emissions (gCO₂eq)\",\n",
    "        ax=axs[0],\n",
    "        label=season.capitalize(),\n",
    "        errorbar=None,\n",
    "    )\n",
    "    sns.lineplot(\n",
    "        data=with_scheduler,\n",
    "        x=\"Synthetic test date\",\n",
    "        y=f\"{season.capitalize()} Cumulative Emissions (gCO₂eq)\",\n",
    "        ax=axs[1],\n",
    "        label=season.capitalize(),\n",
    "        errorbar=None,\n",
    "    )\n",
    "    \n",
    "xticks = pd.date_range(start=\"2018-03-01\", end=\"2018-06-25\", periods=10)\n",
    "\n",
    "for ax in axs:\n",
    "    ax.set_xticks(xticks)\n",
    "    ax.set_xticklabels(xticks.strftime(\"%m-%d\"), rotation=45, horizontalalignment='right')\n",
    "    ax.set_ylabel(\"Cumulative emissions (gCO₂eq)\")\n",
    "    \n",
    "axs[0].set_title(\"Without scheduler and no concurrency\")\n",
    "axs[1].set_title(\"With scheduler and concurrency\")\n"
   ],
   "metadata": {
    "collapsed": false
   },
   "id": "dff79f5db10d08ed"
  }
 ],
 "metadata": {
  "kernelspec": {
   "display_name": "Python 3 (ipykernel)",
   "language": "python",
   "name": "python3"
  },
  "language_info": {
   "codemirror_mode": {
    "name": "ipython",
    "version": 3
   },
   "file_extension": ".py",
   "mimetype": "text/x-python",
   "name": "python",
   "nbconvert_exporter": "python",
   "pygments_lexer": "ipython3",
   "version": "3.11.2"
  }
 },
 "nbformat": 4,
 "nbformat_minor": 5
}
